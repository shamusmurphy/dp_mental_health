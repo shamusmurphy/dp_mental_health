{
 "cells": [
  {
   "cell_type": "markdown",
   "id": "ab9aeed5-80ba-459d-85c9-d1fd28073be5",
   "metadata": {},
   "source": [
    "# Differential Privacy Practice Using Student Mental Health Data Set"
   ]
  },
  {
   "cell_type": "markdown",
   "id": "9d2ed402-ee58-43fd-940d-c0b551b7bff3",
   "metadata": {},
   "source": [
    "### Import Libraries and Read in Data"
   ]
  },
  {
   "cell_type": "code",
   "execution_count": 11,
   "id": "0f60d0cd-4df1-47d0-8786-f575fdc73571",
   "metadata": {},
   "outputs": [],
   "source": [
    "import pandas as pd\n",
    "import numpy as np\n",
    "from scipy import stats\n",
    "import matplotlib.pyplot as plt\n",
    "\n",
    "student = pd.read_csv(\"student_depression_dataset.csv\")"
   ]
  },
  {
   "cell_type": "code",
   "execution_count": 12,
   "id": "47a79921-7f02-4afe-b264-cbba8a210641",
   "metadata": {},
   "outputs": [
    {
     "data": {
      "text/html": [
       "<div>\n",
       "<style scoped>\n",
       "    .dataframe tbody tr th:only-of-type {\n",
       "        vertical-align: middle;\n",
       "    }\n",
       "\n",
       "    .dataframe tbody tr th {\n",
       "        vertical-align: top;\n",
       "    }\n",
       "\n",
       "    .dataframe thead th {\n",
       "        text-align: right;\n",
       "    }\n",
       "</style>\n",
       "<table border=\"1\" class=\"dataframe\">\n",
       "  <thead>\n",
       "    <tr style=\"text-align: right;\">\n",
       "      <th></th>\n",
       "      <th>id</th>\n",
       "      <th>Gender</th>\n",
       "      <th>Age</th>\n",
       "      <th>City</th>\n",
       "      <th>Profession</th>\n",
       "      <th>Academic Pressure</th>\n",
       "      <th>Work Pressure</th>\n",
       "      <th>CGPA</th>\n",
       "      <th>Study Satisfaction</th>\n",
       "      <th>Job Satisfaction</th>\n",
       "      <th>Sleep Duration</th>\n",
       "      <th>Dietary Habits</th>\n",
       "      <th>Degree</th>\n",
       "      <th>Have you ever had suicidal thoughts ?</th>\n",
       "      <th>Work/Study Hours</th>\n",
       "      <th>Financial Stress</th>\n",
       "      <th>Family History of Mental Illness</th>\n",
       "      <th>Depression</th>\n",
       "    </tr>\n",
       "  </thead>\n",
       "  <tbody>\n",
       "    <tr>\n",
       "      <th>0</th>\n",
       "      <td>2</td>\n",
       "      <td>Male</td>\n",
       "      <td>33.0</td>\n",
       "      <td>Visakhapatnam</td>\n",
       "      <td>Student</td>\n",
       "      <td>5.0</td>\n",
       "      <td>0.0</td>\n",
       "      <td>8.97</td>\n",
       "      <td>2.0</td>\n",
       "      <td>0.0</td>\n",
       "      <td>'5-6 hours'</td>\n",
       "      <td>Healthy</td>\n",
       "      <td>B.Pharm</td>\n",
       "      <td>Yes</td>\n",
       "      <td>3.0</td>\n",
       "      <td>1.0</td>\n",
       "      <td>No</td>\n",
       "      <td>1</td>\n",
       "    </tr>\n",
       "    <tr>\n",
       "      <th>1</th>\n",
       "      <td>8</td>\n",
       "      <td>Female</td>\n",
       "      <td>24.0</td>\n",
       "      <td>Bangalore</td>\n",
       "      <td>Student</td>\n",
       "      <td>2.0</td>\n",
       "      <td>0.0</td>\n",
       "      <td>5.90</td>\n",
       "      <td>5.0</td>\n",
       "      <td>0.0</td>\n",
       "      <td>'5-6 hours'</td>\n",
       "      <td>Moderate</td>\n",
       "      <td>BSc</td>\n",
       "      <td>No</td>\n",
       "      <td>3.0</td>\n",
       "      <td>2.0</td>\n",
       "      <td>Yes</td>\n",
       "      <td>0</td>\n",
       "    </tr>\n",
       "    <tr>\n",
       "      <th>2</th>\n",
       "      <td>26</td>\n",
       "      <td>Male</td>\n",
       "      <td>31.0</td>\n",
       "      <td>Srinagar</td>\n",
       "      <td>Student</td>\n",
       "      <td>3.0</td>\n",
       "      <td>0.0</td>\n",
       "      <td>7.03</td>\n",
       "      <td>5.0</td>\n",
       "      <td>0.0</td>\n",
       "      <td>'Less than 5 hours'</td>\n",
       "      <td>Healthy</td>\n",
       "      <td>BA</td>\n",
       "      <td>No</td>\n",
       "      <td>9.0</td>\n",
       "      <td>1.0</td>\n",
       "      <td>Yes</td>\n",
       "      <td>0</td>\n",
       "    </tr>\n",
       "    <tr>\n",
       "      <th>3</th>\n",
       "      <td>30</td>\n",
       "      <td>Female</td>\n",
       "      <td>28.0</td>\n",
       "      <td>Varanasi</td>\n",
       "      <td>Student</td>\n",
       "      <td>3.0</td>\n",
       "      <td>0.0</td>\n",
       "      <td>5.59</td>\n",
       "      <td>2.0</td>\n",
       "      <td>0.0</td>\n",
       "      <td>'7-8 hours'</td>\n",
       "      <td>Moderate</td>\n",
       "      <td>BCA</td>\n",
       "      <td>Yes</td>\n",
       "      <td>4.0</td>\n",
       "      <td>5.0</td>\n",
       "      <td>Yes</td>\n",
       "      <td>1</td>\n",
       "    </tr>\n",
       "    <tr>\n",
       "      <th>4</th>\n",
       "      <td>32</td>\n",
       "      <td>Female</td>\n",
       "      <td>25.0</td>\n",
       "      <td>Jaipur</td>\n",
       "      <td>Student</td>\n",
       "      <td>4.0</td>\n",
       "      <td>0.0</td>\n",
       "      <td>8.13</td>\n",
       "      <td>3.0</td>\n",
       "      <td>0.0</td>\n",
       "      <td>'5-6 hours'</td>\n",
       "      <td>Moderate</td>\n",
       "      <td>M.Tech</td>\n",
       "      <td>Yes</td>\n",
       "      <td>1.0</td>\n",
       "      <td>1.0</td>\n",
       "      <td>No</td>\n",
       "      <td>0</td>\n",
       "    </tr>\n",
       "  </tbody>\n",
       "</table>\n",
       "</div>"
      ],
      "text/plain": [
       "   id  Gender   Age           City Profession  Academic Pressure  \\\n",
       "0   2    Male  33.0  Visakhapatnam    Student                5.0   \n",
       "1   8  Female  24.0      Bangalore    Student                2.0   \n",
       "2  26    Male  31.0       Srinagar    Student                3.0   \n",
       "3  30  Female  28.0       Varanasi    Student                3.0   \n",
       "4  32  Female  25.0         Jaipur    Student                4.0   \n",
       "\n",
       "   Work Pressure  CGPA  Study Satisfaction  Job Satisfaction  \\\n",
       "0            0.0  8.97                 2.0               0.0   \n",
       "1            0.0  5.90                 5.0               0.0   \n",
       "2            0.0  7.03                 5.0               0.0   \n",
       "3            0.0  5.59                 2.0               0.0   \n",
       "4            0.0  8.13                 3.0               0.0   \n",
       "\n",
       "        Sleep Duration Dietary Habits   Degree  \\\n",
       "0          '5-6 hours'        Healthy  B.Pharm   \n",
       "1          '5-6 hours'       Moderate      BSc   \n",
       "2  'Less than 5 hours'        Healthy       BA   \n",
       "3          '7-8 hours'       Moderate      BCA   \n",
       "4          '5-6 hours'       Moderate   M.Tech   \n",
       "\n",
       "  Have you ever had suicidal thoughts ?  Work/Study Hours Financial Stress  \\\n",
       "0                                   Yes               3.0              1.0   \n",
       "1                                    No               3.0              2.0   \n",
       "2                                    No               9.0              1.0   \n",
       "3                                   Yes               4.0              5.0   \n",
       "4                                   Yes               1.0              1.0   \n",
       "\n",
       "  Family History of Mental Illness  Depression  \n",
       "0                               No           1  \n",
       "1                              Yes           0  \n",
       "2                              Yes           0  \n",
       "3                              Yes           1  \n",
       "4                               No           0  "
      ]
     },
     "execution_count": 12,
     "metadata": {},
     "output_type": "execute_result"
    }
   ],
   "source": [
    "student.head()"
   ]
  },
  {
   "cell_type": "markdown",
   "id": "d5a1b75c-ce58-4429-943a-d1d6ba72d611",
   "metadata": {
    "jp-MarkdownHeadingCollapsed": true
   },
   "source": [
    "### Concept\n"
   ]
  },
  {
   "cell_type": "markdown",
   "id": "f418ae5d-3397-4cc5-ba3d-b0375e958431",
   "metadata": {},
   "source": [
    "### Create Laplace Mechanism Function"
   ]
  },
  {
   "cell_type": "markdown",
   "id": "c91a92a4-b9b8-4306-a1e0-27b8611b7046",
   "metadata": {},
   "source": [
    "#### What is a Laplace Mechanism Function?\n",
    "The laplace mechanism function adds noise to any given query proportional to the sensitivity and epsilon, ensuring that the output is relatively the same whether any one individual is in the dataset or not.  \n",
    "It uses v (the data), sensitivity (relative to what the query is), and epsilon (value of privacy)."
   ]
  },
  {
   "cell_type": "code",
   "execution_count": 13,
   "id": "ddccfb20-c488-496f-8fac-350d520d0e00",
   "metadata": {},
   "outputs": [],
   "source": [
    "def laplace_mech(v, sensitivity, epsilon):\n",
    "    return v + np.random.laplace(loc= 0, scale= sensitivity / epsilon)"
   ]
  },
  {
   "cell_type": "markdown",
   "id": "60856081-5648-4be4-aaf4-05c05f72a6e0",
   "metadata": {},
   "source": [
    "### Create Percentage Error Function,"
   ]
  },
  {
   "cell_type": "markdown",
   "id": "4ba5ac25-bedc-4767-a466-078d95ca19a2",
   "metadata": {},
   "source": [
    "The percentage error function determines the difference in the noise values of the differentially private query, and the original value. "
   ]
  },
  {
   "cell_type": "code",
   "execution_count": 24,
   "id": "dec77def-7303-42bb-823c-1ef37dc2255e",
   "metadata": {},
   "outputs": [],
   "source": [
    "def pct_error(orig, priv):\n",
    "    return np.abs(orig-priv)/orig * 100"
   ]
  },
  {
   "cell_type": "markdown",
   "id": "82ba6417-5971-4abf-8da4-6269e1829789",
   "metadata": {},
   "source": [
    "### Example Query: How many individuals are male?"
   ]
  },
  {
   "cell_type": "markdown",
   "id": "ea7ab71d-d5a2-4a53-a8d9-eee5c77c0c41",
   "metadata": {},
   "source": [
    "The first query we are going to be testing is how many people in the data set are male. With it, we will produce the non-differentially private query and the differentially private query. After, we will compare epsilon values to determine percentage errors."
   ]
  },
  {
   "cell_type": "code",
   "execution_count": 22,
   "id": "b6312149-f1fb-4b8d-a9a5-9bc56eca0ede",
   "metadata": {},
   "outputs": [
    {
     "data": {
      "text/plain": [
       "15547"
      ]
     },
     "execution_count": 22,
     "metadata": {},
     "output_type": "execute_result"
    }
   ],
   "source": [
    "def gender_count():\n",
    "    return len(student[student['Gender'] == 'Male'])\n",
    "\n",
    "gender_count()"
   ]
  },
  {
   "cell_type": "code",
   "execution_count": 23,
   "id": "c1d49f98-84da-4c55-8e71-e4befd297ffb",
   "metadata": {},
   "outputs": [
    {
     "data": {
      "text/plain": [
       "15526.6735994493"
      ]
     },
     "execution_count": 23,
     "metadata": {},
     "output_type": "execute_result"
    }
   ],
   "source": [
    "def dp_gender_count(epsilon):\n",
    "    # return differentially private for query 1\n",
    "    # privacy cost: \n",
    "    return laplace_mech(gender_count(), sensitivity=1, epsilon=epsilon)\n",
    "\n",
    "dp_gender_count(.1)"
   ]
  },
  {
   "cell_type": "markdown",
   "id": "94b41257-8dcb-4526-afd4-01c6deba58c4",
   "metadata": {},
   "source": [
    "#### Graphs"
   ]
  },
  {
   "cell_type": "markdown",
   "id": "8e30bb31-04e0-4bab-a615-97060c11ade6",
   "metadata": {},
   "source": [
    "With each function created, we are now able to calculate percentage errors for different values of epsilon. This will allow us to determine a good value for epsilon by choosing a number that allows utility, but still protects the individuals data. These percentage errors will be graphed alongside each other to find a good epsilon value for this query in the data set. "
   ]
  },
  {
   "cell_type": "code",
   "execution_count": 36,
   "id": "a5d0abfd-48fc-4cf7-b695-a695732f7f70",
   "metadata": {},
   "outputs": [],
   "source": [
    "def graph_error_gender(epsilon):\n",
    "    error = [pct_error(gender_count(), dp_gender_count(epsilon)) for _ in range(1000)]\n",
    "    plt.hist(error, bins=20)\n",
    "    return plt.show()"
   ]
  },
  {
   "cell_type": "code",
   "execution_count": 37,
   "id": "fb557be6-de3f-4b37-86f2-11f344a70700",
   "metadata": {},
   "outputs": [
    {
     "data": {
      "image/png": "[encoded data removed]",
      "text/plain": [
       "<Figure size 640x480 with 1 Axes>"
      ]
     },
     "metadata": {},
     "output_type": "display_data"
    }
   ],
   "source": [
    "graph_error_gender(1)"
   ]
  },
  {
   "cell_type": "code",
   "execution_count": 38,
   "id": "961285be-ae67-4861-aae4-2589d6a3506c",
   "metadata": {},
   "outputs": [
    {
     "data": {
      "image/png": "[encoded data removed]",
      "text/plain": [
       "<Figure size 640x480 with 1 Axes>"
      ]
     },
     "metadata": {},
     "output_type": "display_data"
    }
   ],
   "source": [
    "graph_error_gender(.1)"
   ]
  },
  {
   "cell_type": "markdown",
   "id": "aea4039f-794e-426b-b6ec-0d448831d467",
   "metadata": {},
   "source": [
    "#### Graph Analysis"
   ]
  },
  {
   "cell_type": "markdown",
   "id": "f8ee9f94-e548-40a7-8e10-71b8b987b61a",
   "metadata": {},
   "source": [
    "As you can see from each graph above, when the epsilon value is greater, the percent error is smaller, but not very private. As the epsilon value decreases, the privacy becomes better, but the utility decreases. "
   ]
  },
  {
   "cell_type": "code",
   "execution_count": null,
   "id": "252c9c80-90de-4e2e-ac27-e456446dd824",
   "metadata": {},
   "outputs": [],
   "source": []
  }
 ],
 "metadata": {
  "kernelspec": {
   "display_name": "Python 3 (ipykernel)",
   "language": "python",
   "name": "python3"
  },
  "language_info": {
   "codemirror_mode": {
    "name": "ipython",
    "version": 3
   },
   "file_extension": ".py",
   "mimetype": "text/x-python",
   "name": "python",
   "nbconvert_exporter": "python",
   "pygments_lexer": "ipython3",
   "version": "3.12.0"
  }
 },
 "nbformat": 4,
 "nbformat_minor": 5
}
