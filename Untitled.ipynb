{
 "cells": [
  {
   "cell_type": "markdown",
   "id": "ab9aeed5-80ba-459d-85c9-d1fd28073be5",
   "metadata": {},
   "source": [
    "# Differential Privacy Practice Using Student Mental Health Data Set"
   ]
  },
  {
   "cell_type": "code",
   "execution_count": 2,
   "id": "0f60d0cd-4df1-47d0-8786-f575fdc73571",
   "metadata": {},
   "outputs": [],
   "source": [
    "import pandas as pd\n",
    "import numpy as np\n",
    "from scipy import stats\n",
    "import matplotlib.pyplot as plt\n",
    "\n",
    "student = pd.read_csv(\"student_depression_dataset.csv\")"
   ]
  },
  {
   "cell_type": "markdown",
   "id": "d5a1b75c-ce58-4429-943a-d1d6ba72d611",
   "metadata": {},
   "source": [
    "### Concept\n"
   ]
  },
  {
   "cell_type": "markdown",
   "id": "f418ae5d-3397-4cc5-ba3d-b0375e958431",
   "metadata": {},
   "source": [
    "### Create Laplace Mechanism Function"
   ]
  },
  {
   "cell_type": "markdown",
   "id": "c91a92a4-b9b8-4306-a1e0-27b8611b7046",
   "metadata": {},
   "source": [
    "#### What is a Laplace Mechanism Function?\n"
   ]
  },
  {
   "cell_type": "code",
   "execution_count": 4,
   "id": "ddccfb20-c488-496f-8fac-350d520d0e00",
   "metadata": {},
   "outputs": [],
   "source": [
    "def laplace_mech(v, sensitivity, epsilon):\n",
    "    return v + np.random.laplace(loc=0, scale= sensitivity / epsilon)"
   ]
  },
  {
   "cell_type": "code",
   "execution_count": null,
   "id": "6f26c94b-f462-473d-aa3e-fd8dead15a17",
   "metadata": {},
   "outputs": [],
   "source": []
  }
 ],
 "metadata": {
  "kernelspec": {
   "display_name": "Python 3 (ipykernel)",
   "language": "python",
   "name": "python3"
  },
  "language_info": {
   "codemirror_mode": {
    "name": "ipython",
    "version": 3
   },
   "file_extension": ".py",
   "mimetype": "text/x-python",
   "name": "python",
   "nbconvert_exporter": "python",
   "pygments_lexer": "ipython3",
   "version": "3.12.0"
  }
 },
 "nbformat": 4,
 "nbformat_minor": 5
}
